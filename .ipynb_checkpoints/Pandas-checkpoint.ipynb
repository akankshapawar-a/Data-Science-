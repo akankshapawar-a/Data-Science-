{
 "cells": [
  {
   "cell_type": "code",
   "execution_count": 1,
   "id": "b5c7a511-621d-432d-b75e-eb79d64a0671",
   "metadata": {},
   "outputs": [
    {
     "name": "stdout",
     "output_type": "stream",
     "text": [
      "     Name  Age  Salary\n",
      "0    john   29   30000\n",
      "1     sam   24   45000\n",
      "2  petter   25   25000\n"
     ]
    }
   ],
   "source": [
    "import pandas as pd\n",
    "data={\"Name\":[\"john\",\"sam\",\"petter\"],\n",
    "      \"Age\":[29,24,25],\n",
    "      \"Salary\":[30000, 45000,25000]}\n",
    "df= pd.DataFrame(data)\n",
    "print(df)"
   ]
  },
  {
   "cell_type": "code",
   "execution_count": 4,
   "id": "76dbc23e-0d81-4292-aad9-008c8e14d86b",
   "metadata": {},
   "outputs": [
    {
     "name": "stdout",
     "output_type": "stream",
     "text": [
      "    Unnamed: 0 Unnamed: 1                                Unnamed: 2  \\\n",
      "0         Date       Name                                     Today   \n",
      "1   08-08-2022   Akanksha                              I learn HTML   \n",
      "2   09-08-2022   Akanksha                              I learn HTML   \n",
      "3   10-08-2022   Akanksha                               I learn CSS   \n",
      "4   11-08-2022   Akanksha                        I learn Javascript   \n",
      "5   12-08-2022   Akanksha                        I learn javascript   \n",
      "6   13-08-2022   Akanksha                         I learn bootstrap   \n",
      "7   14-08-2022   Akanksha  I attend a online session about database   \n",
      "8   15-08-2022   Akanksha                             I  learn java   \n",
      "9   16-08-2022   Akanksha                   I have create a website   \n",
      "10  17-08-2022   Akanksha                                       NaN   \n",
      "11  18-08-2022   Akanksha                                       NaN   \n",
      "12  19-08-2022   Akanksha                                       NaN   \n",
      "13  20-08-2022   Akanksha                                       NaN   \n",
      "\n",
      "                                               Report  \n",
      "0                                            Tomorrow  \n",
      "1                                  I will learn  HTML  \n",
      "2                                    I will learn CSS  \n",
      "3                             I will learn Javascript  \n",
      "4                             I will learn Javascript  \n",
      "5                              I will learn bootstrap  \n",
      "6       I will attend a online session about database  \n",
      "7                                   I will learn java  \n",
      "8                                   I will learn java  \n",
      "9   I will create one more website by using bootstrap  \n",
      "10                                                NaN  \n",
      "11                                                NaN  \n",
      "12                                                NaN  \n",
      "13                                                NaN  \n"
     ]
    }
   ],
   "source": [
    "# read Csv Files \n",
    "data=pd.read_csv(\"C:/Users/Akansha/OneDrive/Desktop/report.csv\")\n",
    "print(data)"
   ]
  },
  {
   "cell_type": "code",
   "execution_count": 7,
   "id": "e41c2745-97fc-4481-b293-d838d190eefd",
   "metadata": {},
   "outputs": [
    {
     "name": "stdout",
     "output_type": "stream",
     "text": [
      "             Unnamed: 0 Unnamed: 1                                Unnamed: 2  \\\n",
      "0                  Date       Name                                     Today   \n",
      "1   2022-08-08 00:00:00   Akanksha                              I learn HTML   \n",
      "2   2022-08-09 00:00:00   Akanksha                              I learn HTML   \n",
      "3   2022-08-10 00:00:00   Akanksha                               I learn CSS   \n",
      "4   2022-08-11 00:00:00   Akanksha                        I learn Javascript   \n",
      "5   2022-08-12 00:00:00   Akanksha                        I learn javascript   \n",
      "6   2022-08-13 00:00:00   Akanksha                         I learn bootstrap   \n",
      "7   2022-08-14 00:00:00   Akanksha  I attend a online session about database   \n",
      "8   2022-08-15 00:00:00   Akanksha                             I  learn java   \n",
      "9   2022-08-16 00:00:00   Akanksha                   I have create a website   \n",
      "10  2022-08-17 00:00:00   Akanksha                                       NaN   \n",
      "11  2022-08-18 00:00:00   Akanksha                                       NaN   \n",
      "12  2022-08-19 00:00:00   Akanksha                                       NaN   \n",
      "13  2022-08-20 00:00:00   Akanksha                                       NaN   \n",
      "\n",
      "                                               Report  \n",
      "0                                            Tomorrow  \n",
      "1                                  I will learn  HTML  \n",
      "2                                    I will learn CSS  \n",
      "3                             I will learn Javascript  \n",
      "4                             I will learn Javascript  \n",
      "5                              I will learn bootstrap  \n",
      "6       I will attend a online session about database  \n",
      "7                                   I will learn java  \n",
      "8                                   I will learn java  \n",
      "9   I will create one more website by using bootstrap  \n",
      "10                                                NaN  \n",
      "11                                                NaN  \n",
      "12                                                NaN  \n",
      "13                                                NaN  \n"
     ]
    }
   ],
   "source": [
    "#read excel file \n",
    "#for excel file we have installed openpyxl\n",
    "# data=pd.read_excel(\"C:/Users/Akansha/OneDrive/Desktop/report.xlsx\")\n",
    "data=pd.read_excel(\"report.xlsx\")\n",
    "print(data)"
   ]
  },
  {
   "cell_type": "code",
   "execution_count": 9,
   "id": "5c9b7677-4e79-4adc-9afe-4aacadfc4fe5",
   "metadata": {},
   "outputs": [
    {
     "name": "stdout",
     "output_type": "stream",
     "text": [
      "             Unnamed: 0 Unnamed: 1                                Unnamed: 2  \\\n",
      "0                  Date       Name                                     Today   \n",
      "1   2022-08-08 00:00:00   Akanksha                              I learn HTML   \n",
      "2   2022-08-09 00:00:00   Akanksha                              I learn HTML   \n",
      "3   2022-08-10 00:00:00   Akanksha                               I learn CSS   \n",
      "4   2022-08-11 00:00:00   Akanksha                        I learn Javascript   \n",
      "5   2022-08-12 00:00:00   Akanksha                        I learn javascript   \n",
      "6   2022-08-13 00:00:00   Akanksha                         I learn bootstrap   \n",
      "7   2022-08-14 00:00:00   Akanksha  I attend a online session about database   \n",
      "8   2022-08-15 00:00:00   Akanksha                             I  learn java   \n",
      "9   2022-08-16 00:00:00   Akanksha                   I have create a website   \n",
      "10  2022-08-17 00:00:00   Akanksha                                       NaN   \n",
      "11  2022-08-18 00:00:00   Akanksha                                       NaN   \n",
      "12  2022-08-19 00:00:00   Akanksha                                       NaN   \n",
      "13  2022-08-20 00:00:00   Akanksha                                       NaN   \n",
      "\n",
      "                                               Report  \n",
      "0                                            Tomorrow  \n",
      "1                                  I will learn  HTML  \n",
      "2                                    I will learn CSS  \n",
      "3                             I will learn Javascript  \n",
      "4                             I will learn Javascript  \n",
      "5                              I will learn bootstrap  \n",
      "6       I will attend a online session about database  \n",
      "7                                   I will learn java  \n",
      "8                                   I will learn java  \n",
      "9   I will create one more website by using bootstrap  \n",
      "10                                                NaN  \n",
      "11                                                NaN  \n",
      "12                                                NaN  \n",
      "13                                                NaN  \n",
      "            Unnamed: 0 Unnamed: 1                                Unnamed: 2  \\\n",
      "0                 Date       Name                                     Today   \n",
      "1  2022-08-08 00:00:00   Akanksha                              I learn HTML   \n",
      "2  2022-08-09 00:00:00   Akanksha                              I learn HTML   \n",
      "3  2022-08-10 00:00:00   Akanksha                               I learn CSS   \n",
      "4  2022-08-11 00:00:00   Akanksha                        I learn Javascript   \n",
      "5  2022-08-12 00:00:00   Akanksha                        I learn javascript   \n",
      "6  2022-08-13 00:00:00   Akanksha                         I learn bootstrap   \n",
      "7  2022-08-14 00:00:00   Akanksha  I attend a online session about database   \n",
      "8  2022-08-15 00:00:00   Akanksha                             I  learn java   \n",
      "9  2022-08-16 00:00:00   Akanksha                   I have create a website   \n",
      "\n",
      "                                              Report  \n",
      "0                                           Tomorrow  \n",
      "1                                 I will learn  HTML  \n",
      "2                                   I will learn CSS  \n",
      "3                            I will learn Javascript  \n",
      "4                            I will learn Javascript  \n",
      "5                             I will learn bootstrap  \n",
      "6      I will attend a online session about database  \n",
      "7                                  I will learn java  \n",
      "8                                  I will learn java  \n",
      "9  I will create one more website by using bootstrap  \n",
      "             Unnamed: 0 Unnamed: 1                                Unnamed: 2  \\\n",
      "4   2022-08-11 00:00:00   Akanksha                        I learn Javascript   \n",
      "5   2022-08-12 00:00:00   Akanksha                        I learn javascript   \n",
      "6   2022-08-13 00:00:00   Akanksha                         I learn bootstrap   \n",
      "7   2022-08-14 00:00:00   Akanksha  I attend a online session about database   \n",
      "8   2022-08-15 00:00:00   Akanksha                             I  learn java   \n",
      "9   2022-08-16 00:00:00   Akanksha                   I have create a website   \n",
      "10  2022-08-17 00:00:00   Akanksha                                       NaN   \n",
      "11  2022-08-18 00:00:00   Akanksha                                       NaN   \n",
      "12  2022-08-19 00:00:00   Akanksha                                       NaN   \n",
      "13  2022-08-20 00:00:00   Akanksha                                       NaN   \n",
      "\n",
      "                                               Report  \n",
      "4                             I will learn Javascript  \n",
      "5                              I will learn bootstrap  \n",
      "6       I will attend a online session about database  \n",
      "7                                   I will learn java  \n",
      "8                                   I will learn java  \n",
      "9   I will create one more website by using bootstrap  \n",
      "10                                                NaN  \n",
      "11                                                NaN  \n",
      "12                                                NaN  \n",
      "13                                                NaN  \n"
     ]
    }
   ],
   "source": [
    "# Exploring data in pandas \n",
    "import pandas as pd\n",
    "data=pd.read_excel(\"report.xlsx\")\n",
    "print(data)\n",
    "print(data.head(10)) #to see all data which we want from long datasetfrom top \n",
    "print(data.tail(10))"
   ]
  },
  {
   "cell_type": "code",
   "execution_count": 12,
   "id": "b955a28c-2884-48a1-a00a-8407543f2ca2",
   "metadata": {},
   "outputs": [
    {
     "name": "stdout",
     "output_type": "stream",
     "text": [
      "<class 'pandas.core.frame.DataFrame'>\n",
      "RangeIndex: 14 entries, 0 to 13\n",
      "Data columns (total 4 columns):\n",
      " #   Column      Non-Null Count  Dtype \n",
      "---  ------      --------------  ----- \n",
      " 0   Unnamed: 0  14 non-null     object\n",
      " 1   Unnamed: 1  14 non-null     object\n",
      " 2   Unnamed: 2  10 non-null     object\n",
      " 3   Report      10 non-null     object\n",
      "dtypes: object(4)\n",
      "memory usage: 576.0+ bytes\n",
      "None\n"
     ]
    }
   ],
   "source": [
    "#for information of data\n",
    "print(data.info())"
   ]
  },
  {
   "cell_type": "code",
   "execution_count": 13,
   "id": "4a8dce58-d119-460f-8200-e6259bb43bee",
   "metadata": {},
   "outputs": [
    {
     "data": {
      "text/html": [
       "<div>\n",
       "<style scoped>\n",
       "    .dataframe tbody tr th:only-of-type {\n",
       "        vertical-align: middle;\n",
       "    }\n",
       "\n",
       "    .dataframe tbody tr th {\n",
       "        vertical-align: top;\n",
       "    }\n",
       "\n",
       "    .dataframe thead th {\n",
       "        text-align: right;\n",
       "    }\n",
       "</style>\n",
       "<table border=\"1\" class=\"dataframe\">\n",
       "  <thead>\n",
       "    <tr style=\"text-align: right;\">\n",
       "      <th></th>\n",
       "      <th>Unnamed: 0</th>\n",
       "      <th>Unnamed: 1</th>\n",
       "      <th>Unnamed: 2</th>\n",
       "      <th>Report</th>\n",
       "    </tr>\n",
       "  </thead>\n",
       "  <tbody>\n",
       "    <tr>\n",
       "      <th>count</th>\n",
       "      <td>14</td>\n",
       "      <td>14</td>\n",
       "      <td>10</td>\n",
       "      <td>10</td>\n",
       "    </tr>\n",
       "    <tr>\n",
       "      <th>unique</th>\n",
       "      <td>14</td>\n",
       "      <td>2</td>\n",
       "      <td>9</td>\n",
       "      <td>9</td>\n",
       "    </tr>\n",
       "    <tr>\n",
       "      <th>top</th>\n",
       "      <td>Date</td>\n",
       "      <td>Akanksha</td>\n",
       "      <td>I learn HTML</td>\n",
       "      <td>I will learn java</td>\n",
       "    </tr>\n",
       "    <tr>\n",
       "      <th>freq</th>\n",
       "      <td>1</td>\n",
       "      <td>13</td>\n",
       "      <td>2</td>\n",
       "      <td>2</td>\n",
       "    </tr>\n",
       "  </tbody>\n",
       "</table>\n",
       "</div>"
      ],
      "text/plain": [
       "       Unnamed: 0 Unnamed: 1    Unnamed: 2             Report\n",
       "count          14         14            10                 10\n",
       "unique         14          2             9                  9\n",
       "top          Date   Akanksha  I learn HTML  I will learn java\n",
       "freq            1         13             2                  2"
      ]
     },
     "execution_count": 13,
     "metadata": {},
     "output_type": "execute_result"
    }
   ],
   "source": [
    "#describe \n",
    "data.describe()"
   ]
  },
  {
   "cell_type": "code",
   "execution_count": 14,
   "id": "6bab408f-b674-4408-b725-2f1e4090d29c",
   "metadata": {},
   "outputs": [
    {
     "name": "stdout",
     "output_type": "stream",
     "text": [
      "    Unnamed: 0  Unnamed: 1  Unnamed: 2  Report\n",
      "0        False       False       False   False\n",
      "1        False       False       False   False\n",
      "2        False       False       False   False\n",
      "3        False       False       False   False\n",
      "4        False       False       False   False\n",
      "5        False       False       False   False\n",
      "6        False       False       False   False\n",
      "7        False       False       False   False\n",
      "8        False       False       False   False\n",
      "9        False       False       False   False\n",
      "10       False       False        True    True\n",
      "11       False       False        True    True\n",
      "12       False       False        True    True\n",
      "13       False       False        True    True\n"
     ]
    }
   ],
   "source": [
    "#to see null value\n",
    "print(data.isnull()) # if null value is there it return true "
   ]
  },
  {
   "cell_type": "code",
   "execution_count": 15,
   "id": "00e88c8d-4e67-49d5-bbca-37abc226b842",
   "metadata": {},
   "outputs": [
    {
     "name": "stdout",
     "output_type": "stream",
     "text": [
      "Unnamed: 0    0\n",
      "Unnamed: 1    0\n",
      "Unnamed: 2    4\n",
      "Report        4\n",
      "dtype: int64\n"
     ]
    }
   ],
   "source": [
    "print(data.isnull().sum()) #total null values "
   ]
  },
  {
   "cell_type": "code",
   "execution_count": 16,
   "id": "f34d7fee-887b-4339-aded-17ad9c5fa7a3",
   "metadata": {},
   "outputs": [
    {
     "name": "stdout",
     "output_type": "stream",
     "text": [
      "    EEID       Name gender   salary\n",
      "0  EMP01  Akanksha       F  25000.0\n",
      "1  EMP02     sanket      M  33000.0\n",
      "2  EMP03        sam      M      NaN\n",
      "3  EMP04      sarth      M   2000.0\n",
      "4  EMP05     atharv      M    230.0\n",
      "5  EMP06     sakshi      F      NaN\n"
     ]
    }
   ],
   "source": [
    "# Handling Duplicate values in pandas \n",
    "\n",
    "data=pd.read_excel(\"Book1.xlsx\")\n",
    "print(data)\n",
    "\n"
   ]
  },
  {
   "cell_type": "code",
   "execution_count": 17,
   "id": "00a7e874-5131-47eb-836a-18a12333b3f0",
   "metadata": {},
   "outputs": [
    {
     "name": "stdout",
     "output_type": "stream",
     "text": [
      "0    False\n",
      "1    False\n",
      "2    False\n",
      "3    False\n",
      "4    False\n",
      "5    False\n",
      "dtype: bool\n"
     ]
    }
   ],
   "source": [
    "print(data.duplicated())"
   ]
  },
  {
   "cell_type": "code",
   "execution_count": 18,
   "id": "8967ceaa-b946-416a-866f-b56d287ed378",
   "metadata": {},
   "outputs": [
    {
     "name": "stdout",
     "output_type": "stream",
     "text": [
      "0    False\n",
      "1    False\n",
      "2    False\n",
      "3    False\n",
      "4    False\n",
      "5    False\n",
      "Name: EEID, dtype: bool\n"
     ]
    }
   ],
   "source": [
    "print(data[\"EEID\"].duplicated())"
   ]
  },
  {
   "cell_type": "code",
   "execution_count": 20,
   "id": "0464543c-e08f-45d7-ab8b-515b9da3f200",
   "metadata": {},
   "outputs": [
    {
     "name": "stdout",
     "output_type": "stream",
     "text": [
      "1\n"
     ]
    }
   ],
   "source": [
    "print(data[\"salary\"].duplicated().sum()) #do form unique col here\n",
    "#i have noduplaicate in id so i have done on salary"
   ]
  },
  {
   "cell_type": "code",
   "execution_count": 22,
   "id": "2676867b-2b09-4290-bd0b-157384d6c5ab",
   "metadata": {},
   "outputs": [
    {
     "name": "stdout",
     "output_type": "stream",
     "text": [
      "    EEID       Name gender   salary\n",
      "0  EMP01  Akanksha       F  25000.0\n",
      "1  EMP02     sanket      M  33000.0\n",
      "2  EMP03        sam      M      NaN\n",
      "3  EMP04      sarth      M   2000.0\n",
      "4  EMP05     atharv      M    230.0\n"
     ]
    }
   ],
   "source": [
    "print(data.drop_duplicates(\"salary\"))"
   ]
  },
  {
   "cell_type": "code",
   "execution_count": 21,
   "id": "efdbf3db-8e89-41b1-b58e-2e9f86f8e769",
   "metadata": {},
   "outputs": [
    {
     "name": "stdout",
     "output_type": "stream",
     "text": [
      "    EEID       Name gender   salary\n",
      "0  EMP01  Akanksha       F  25000.0\n",
      "1  EMP02     sanket      M  33000.0\n",
      "2  EMP03        sam      M      NaN\n",
      "3  EMP04      sarth      M   2000.0\n",
      "4  EMP05     atharv      M    230.0\n",
      "5  EMP06     sakshi      F      NaN\n"
     ]
    }
   ],
   "source": [
    "#working with missing data in pandas \n",
    "import pandas as pd\n",
    "data=pd.read_excel(\"Book1.xlsx\")\n",
    "print(data)\n"
   ]
  },
  {
   "cell_type": "code",
   "execution_count": 3,
   "id": "82db4cbe-a5a7-4601-91ec-84e46a799e30",
   "metadata": {},
   "outputs": [
    {
     "name": "stdout",
     "output_type": "stream",
     "text": [
      "EEID      0\n",
      "Name      0\n",
      "gender    0\n",
      "salary    2\n",
      "dtype: int64\n"
     ]
    }
   ],
   "source": [
    "print(data.isnull().sum())"
   ]
  },
  {
   "cell_type": "code",
   "execution_count": 4,
   "id": "33ca978b-b0dc-44ee-ae93-bd1073846096",
   "metadata": {},
   "outputs": [
    {
     "name": "stdout",
     "output_type": "stream",
     "text": [
      "    EEID       Name gender   salary\n",
      "0  EMP01  Akanksha       F  25000.0\n",
      "1  EMP02     sanket      M  33000.0\n",
      "3  EMP04      sarth      M   2000.0\n",
      "4  EMP05     atharv      M    230.0\n"
     ]
    }
   ],
   "source": [
    "print(data.dropna())"
   ]
  },
  {
   "cell_type": "code",
   "execution_count": 5,
   "id": "547cd103-620d-435c-a364-5795d0b4a892",
   "metadata": {},
   "outputs": [
    {
     "name": "stdout",
     "output_type": "stream",
     "text": [
      "    EEID       Name gender   salary\n",
      "0  EMP01  Akanksha       F  25000.0\n",
      "1  EMP02     sanket      M  33000.0\n",
      "2  EMP03        sam      M      NaN\n",
      "3  EMP04      sarth      M   2000.0\n",
      "4  EMP05     atharv      M    230.0\n",
      "5  EMP06     sakshi      F      NaN\n"
     ]
    }
   ],
   "source": [
    "#replace null value \n",
    "print(data)"
   ]
  },
  {
   "cell_type": "code",
   "execution_count": 12,
   "id": "0ece09d9-ba02-45c2-befa-2f735e2e28b7",
   "metadata": {},
   "outputs": [
    {
     "name": "stdout",
     "output_type": "stream",
     "text": [
      "    EEID       Name gender   salary\n",
      "0  EMP01  Akanksha       F  25000.0\n",
      "1  EMP02     sanket      M  33000.0\n",
      "2  EMP03        sam      M  30000.0\n",
      "3  EMP04      sarth      M   2000.0\n",
      "4  EMP05     atharv      M    230.0\n",
      "5  EMP06     sakshi      F  30000.0\n"
     ]
    }
   ],
   "source": [
    "import numpy as np\n",
    "print(data.replace(np.nan,\"pending\"))"
   ]
  },
  {
   "cell_type": "code",
   "execution_count": 15,
   "id": "7e746692-fcd2-4b94-a272-9a628e6ea732",
   "metadata": {},
   "outputs": [
    {
     "name": "stdout",
     "output_type": "stream",
     "text": [
      "    EEID       Name gender   salary\n",
      "0  EMP01  Akanksha       F  25000.0\n",
      "1  EMP02     sanket      M  33000.0\n",
      "2  EMP03        sam      M  20039.0\n",
      "3  EMP04      sarth      M   2000.0\n",
      "4  EMP05     atharv      M    230.0\n",
      "5  EMP06     sakshi      F  20039.0\n"
     ]
    }
   ],
   "source": [
    "import numpy as np\n",
    "data[\"salary\"]=data[\"salary\"].replace(np.nan,20039)\n",
    "print(data)"
   ]
  },
  {
   "cell_type": "code",
   "execution_count": 19,
   "id": "758405a0-44c2-4315-950d-7919a3d4e961",
   "metadata": {},
   "outputs": [
    {
     "name": "stdout",
     "output_type": "stream",
     "text": [
      "16718.0\n"
     ]
    }
   ],
   "source": [
    "print(data[\"salary\"].mean()) \n",
    "# add mean value to the null so it cannot \n",
    "# affect to the another data and after adding if again we are\n",
    "# calaculating mean value it remain same\n"
   ]
  },
  {
   "cell_type": "code",
   "execution_count": 27,
   "id": "ebecd84d-6368-47e6-b372-cc92103b26e7",
   "metadata": {},
   "outputs": [
    {
     "name": "stdout",
     "output_type": "stream",
     "text": [
      "    EEID       Name gender   salary\n",
      "0  EMP01  Akanksha       F  25000.0\n",
      "1  EMP02     sanket      M  33000.0\n",
      "2  EMP03        sam      M      NaN\n",
      "3  EMP04      sarth      M   2000.0\n",
      "4  EMP05     atharv      M    230.0\n",
      "5  EMP06     sakshi      F      NaN\n",
      "    EEID       Name gender   salary\n",
      "0  EMP01  Akanksha       F  25000.0\n",
      "1  EMP02     sanket      M  33000.0\n",
      "2  EMP03        sam      M   2000.0\n",
      "3  EMP04      sarth      M   2000.0\n",
      "4  EMP05     atharv      M    230.0\n",
      "5  EMP06     sakshi      F      NaN\n"
     ]
    },
    {
     "name": "stderr",
     "output_type": "stream",
     "text": [
      "C:\\Users\\Akansha\\AppData\\Local\\Temp\\ipykernel_18692\\2233846630.py:3: FutureWarning: DataFrame.fillna with 'method' is deprecated and will raise in a future version. Use obj.ffill() or obj.bfill() instead.\n",
      "  print(data.fillna(method=\"bfill\"))\n"
     ]
    }
   ],
   "source": [
    "#downside value be at  place on null\n",
    "print(data)\n",
    "print(data.fillna(method=\"bfill\"))"
   ]
  },
  {
   "cell_type": "code",
   "execution_count": 28,
   "id": "21fc0fc4-98d5-42ad-8846-f0985d7cf3d1",
   "metadata": {},
   "outputs": [
    {
     "name": "stdout",
     "output_type": "stream",
     "text": [
      "    EEID       Name gender   salary\n",
      "0  EMP01  Akanksha       F  25000.0\n",
      "1  EMP02     sanket      M  33000.0\n",
      "2  EMP03        sam      M  33000.0\n",
      "3  EMP04      sarth      M   2000.0\n",
      "4  EMP05     atharv      M    230.0\n",
      "5  EMP06     sakshi      F    230.0\n"
     ]
    },
    {
     "name": "stderr",
     "output_type": "stream",
     "text": [
      "C:\\Users\\Akansha\\AppData\\Local\\Temp\\ipykernel_18692\\3988283792.py:3: FutureWarning: DataFrame.fillna with 'method' is deprecated and will raise in a future version. Use obj.ffill() or obj.bfill() instead.\n",
      "  print(data.fillna(method=\"ffill\"))\n"
     ]
    }
   ],
   "source": [
    "#upper value be at  place on null\n",
    "\n",
    "print(data.fillna(method=\"ffill\"))"
   ]
  },
  {
   "cell_type": "code",
   "execution_count": 37,
   "id": "47f40750-fd59-4ba9-aef1-04cc15026f49",
   "metadata": {},
   "outputs": [
    {
     "name": "stdout",
     "output_type": "stream",
     "text": [
      "    EEID       Name gender   salary GetBonus\n",
      "0  EMP01  Akanksha       F  25000.0    bonus\n",
      "1  EMP02     sanket      M  33000.0    bonus\n",
      "2  EMP03        sam      M      NaN  pending\n",
      "3  EMP04      sarth      M   2000.0    bonus\n",
      "4  EMP05     atharv      M    230.0    bonus\n",
      "5  EMP06     sakshi      F      NaN  pending\n"
     ]
    },
    {
     "name": "stderr",
     "output_type": "stream",
     "text": [
      "C:\\Users\\Akansha\\AppData\\Local\\Temp\\ipykernel_18692\\4162142884.py:5: FutureWarning: Setting an item of incompatible dtype is deprecated and will raise in a future error of pandas. Value 'no bonus' has dtype incompatible with float64, please explicitly cast to a compatible dtype first.\n",
      "  df.loc[(df[\"salary\"]==0),\"GetBonus\"]=\"no bonus\"\n"
     ]
    }
   ],
   "source": [
    "# Columns Transformation part_1\n",
    "\n",
    "df=pd.read_excel(\"Book1.xlsx\")\n",
    "# print(data)\n",
    "df.loc[(df[\"salary\"]==0),\"GetBonus\"]=\"no bonus\"\n",
    "df.loc[(df[\"salary\"]>0,\"GetBonus\")]=\"bonus\"\n",
    "df[\"GetBonus\"]=df[\"GetBonus\"].replace(np.nan,\"pending\")\n",
    "print(df)\n",
    "\n"
   ]
  },
  {
   "cell_type": "code",
   "execution_count": 4,
   "id": "0f8af32b-5963-410b-bc58-873db749684c",
   "metadata": {},
   "outputs": [
    {
     "name": "stdout",
     "output_type": "stream",
     "text": [
      "    EEID       Name gender   salary     Fullname\n",
      "0  EMP01  Akanksha       F  25000.0  Akanksha  F\n",
      "1  EMP02     sanket      M  33000.0     Sanket M\n",
      "2  EMP03        sam      M      NaN        Sam M\n",
      "3  EMP04      sarth      M   2000.0      Sarth M\n",
      "4  EMP05     atharv      M    230.0     Atharv M\n",
      "5  EMP06     sakshi      F      NaN     Sakshi F\n"
     ]
    }
   ],
   "source": [
    "#Concatenate the columns \n",
    "import pandas as dp\n",
    "data=dp.read_excel(\"Book1.xlsx\")\n",
    "data[\"Fullname\"]=data[\"Name\"].str.capitalize()+\" \"+data[\"gender\"]\n",
    "print(data)\n"
   ]
  },
  {
   "cell_type": "code",
   "execution_count": 5,
   "id": "6b47fc33-249f-46a2-9a8d-44313cf76b72",
   "metadata": {},
   "outputs": [
    {
     "name": "stdout",
     "output_type": "stream",
     "text": [
      "    EEID       Name gender   salary  Bonous\n",
      "0  EMP01  Akanksha       F  25000.0  5000.0\n",
      "1  EMP02     sanket      M  33000.0  6600.0\n",
      "2  EMP03        sam      M      NaN     NaN\n",
      "3  EMP04      sarth      M   2000.0   400.0\n",
      "4  EMP05     atharv      M    230.0    46.0\n",
      "5  EMP06     sakshi      F      NaN     NaN\n"
     ]
    }
   ],
   "source": [
    "# Columns Transformation part_2\n",
    "\n",
    "import pandas as pd\n",
    "data=dp.read_excel(\"Book1.xlsx\")\n",
    "data[\"Bonous\"]=(data[\"salary\"]/100)*20\n",
    "print(data)\n",
    "\n"
   ]
  },
  {
   "cell_type": "code",
   "execution_count": 7,
   "id": "5b19f232-7c5b-4fe6-927d-2c4321d5a680",
   "metadata": {},
   "outputs": [
    {
     "name": "stdout",
     "output_type": "stream",
     "text": [
      "     Months\n",
      "0   January\n",
      "1  February\n",
      "2     March\n",
      "3     April\n",
      "     Months short_name\n",
      "0   January        Jan\n",
      "1  February        Feb\n",
      "2     March        Mar\n",
      "3     April        Apr\n"
     ]
    }
   ],
   "source": [
    "data={\"Months\":[\"January\",\"February\",\"March\",\"April\"]}\n",
    "a=pd.DataFrame(data)\n",
    "print(a)\n",
    "\n",
    "def extract(value):\n",
    "    return value[0:3]\n",
    "a[\"short_name\"]=a[\"Months\"].map(extract)\n",
    "print(a)"
   ]
  },
  {
   "cell_type": "code",
   "execution_count": 9,
   "id": "618533ac-886c-4a37-be59-f108ab7fd9f7",
   "metadata": {},
   "outputs": [
    {
     "name": "stdout",
     "output_type": "stream",
     "text": [
      "           gender\n",
      "Name             \n",
      "Akanksha        1\n",
      "atharv          1\n",
      "sakshi          1\n",
      "sam             1\n",
      "sanket          1\n",
      "sarth           1\n"
     ]
    }
   ],
   "source": [
    "#Group by -for summarize the data\n",
    "import pandas as dp\n",
    "data=dp.read_excel(\"Book1.xlsx\")\n",
    "gp=data.groupby(\"Name\").agg({\"gender\":\"count\"})\n",
    "print(gp)\n"
   ]
  },
  {
   "cell_type": "code",
   "execution_count": 2,
   "id": "52cebed9-6d52-4696-b97d-bfc2f3a77eb1",
   "metadata": {},
   "outputs": [
    {
     "name": "stdout",
     "output_type": "stream",
     "text": [
      "  Emp Id   Names  Age\n",
      "0    E01     Ram   23\n",
      "1    E02     Sam   24\n",
      "2    E03   Shyam   23\n",
      "3    E04  Sanket   34\n",
      "4    E05    Ravi   45\n",
      "5    E06    Jhon   34\n",
      "\n",
      "  Emp Id  Salary\n",
      "0    E01   23456\n",
      "1    E02  234424\n",
      "2    E03   34545\n",
      "3    E04  345556\n",
      "4    E05   44556\n",
      "5    E06   78977\n"
     ]
    }
   ],
   "source": [
    "#mergeing and all start form here\n",
    "import pandas as pd\n",
    "\n",
    "data1={\"Emp Id\":[\"E01\",\"E02\",\"E03\",\"E04\",\"E05\",\"E06\"],\n",
    "      \"Names\":[\"Ram\",\"Sam\",\"Shyam\",\"Sanket\",\"Ravi\",\"Jhon\"],\n",
    "      \"Age\":[23 ,24,23,34,45,34]}\n",
    "\n",
    "data2={\"Emp Id\":[\"E01\",\"E02\",\"E03\",\"E04\",\"E05\",\"E06\"],\n",
    "      \"Salary\":[23456,234424,34545,345556,44556,78977]}\n",
    "\n",
    "df1=pd.DataFrame(data1)\n",
    "df2=pd.DataFrame(data2)\n",
    "\n",
    "print(df1)\n",
    "print()\n",
    "print(df2)"
   ]
  },
  {
   "cell_type": "code",
   "execution_count": 19,
   "id": "1a41e958-0908-44be-81f0-0ce2a9cfe16e",
   "metadata": {},
   "outputs": [
    {
     "name": "stdout",
     "output_type": "stream",
     "text": [
      "Empty DataFrame\n",
      "Columns: [Emp Id, Names, Age]\n",
      "Index: []\n"
     ]
    }
   ],
   "source": [
    "#Merge-any one col must be same \n",
    "\n",
    "print(pd.merge(df1,df2))"
   ]
  },
  {
   "cell_type": "code",
   "execution_count": 8,
   "id": "b3a916ac-62d4-4d3b-9aa9-1f8a01548297",
   "metadata": {},
   "outputs": [
    {
     "name": "stdout",
     "output_type": "stream",
     "text": [
      "  Emp Id   Names  Age  Salary\n",
      "0    E01     Ram   23   23456\n",
      "1    E02     Sam   24  234424\n",
      "2    E03   Shyam   23   34545\n",
      "3    E04  Sanket   34  345556\n",
      "4    E05    Ravi   45   44556\n",
      "5    E06    Jhon   34   78977\n"
     ]
    }
   ],
   "source": [
    "#on basics of something\n",
    "print(pd.merge(df1,df2,on=\"Emp Id\"))"
   ]
  },
  {
   "cell_type": "code",
   "execution_count": 11,
   "id": "793970c3-0e73-42a1-981d-91a711741044",
   "metadata": {},
   "outputs": [
    {
     "name": "stdout",
     "output_type": "stream",
     "text": [
      "  Emp Id   Names  Age  Salary\n",
      "0    E01     Ram   23   23456\n",
      "1    E02     Sam   24  234424\n",
      "2    E03   Shyam   23   34545\n",
      "3    E04  Sanket   34  345556\n",
      "4    E05    Ravi   45   44556\n",
      "5    E06    Jhon   34   78977\n"
     ]
    }
   ],
   "source": [
    "#Join\n",
    "print(pd.merge(df1,df2,on=\"Emp Id\",how=\"inner\"))"
   ]
  },
  {
   "cell_type": "code",
   "execution_count": 14,
   "id": "707761d4-8911-4152-9537-bcecf4e510e2",
   "metadata": {},
   "outputs": [
    {
     "name": "stdout",
     "output_type": "stream",
     "text": [
      "  Emp Id  Salary   Names  Age\n",
      "0    E01   23456     Ram   23\n",
      "1    E02  234424     Sam   24\n",
      "2    E03   34545   Shyam   23\n",
      "3    E04  345556  Sanket   34\n",
      "4    E05   44556    Ravi   45\n",
      "5    E06   78977    Jhon   34\n"
     ]
    }
   ],
   "source": [
    "print(pd.merge(right=df1,left=df2,on=\"Emp Id\",how=\"left\"))\n"
   ]
  },
  {
   "cell_type": "code",
   "execution_count": 16,
   "id": "650adb49-c2a8-4258-a22a-f28fadd9a0e6",
   "metadata": {},
   "outputs": [
    {
     "name": "stdout",
     "output_type": "stream",
     "text": [
      "  Emp Id   Names  Age  Salary\n",
      "0    E01     Ram   23   23456\n",
      "1    E02     Sam   24  234424\n",
      "2    E03   Shyam   23   34545\n",
      "3    E04  Sanket   34  345556\n",
      "4    E05    Ravi   45   44556\n",
      "5    E06    Jhon   34   78977\n"
     ]
    }
   ],
   "source": [
    "#this join are act like sql joins ,only syntax is different\n",
    "print(pd.merge(left=df1,right=df2,on=\"Emp Id\",how=\"right\"))\n"
   ]
  },
  {
   "cell_type": "code",
   "execution_count": 21,
   "id": "4f918821-1b9a-4c6c-931d-4b20db2914aa",
   "metadata": {},
   "outputs": [
    {
     "name": "stdout",
     "output_type": "stream",
     "text": [
      "  Emp Id    Names  Age\n",
      "0    E01      Ram   23\n",
      "1    E02      Sam   24\n",
      "2    E03    Shyam   23\n",
      "3    E04   Sanket   34\n",
      "4    E05     Ravi   45\n",
      "5    E06     Jhon   34\n",
      "0    E07     Ram1   23\n",
      "1    E08     Sam1   24\n",
      "2    E09   Shyam1   23\n",
      "3   E010  Sanket1   34\n",
      "4   E011    Ravi1   45\n",
      "5   E012    Jhon1   34\n"
     ]
    }
   ],
   "source": [
    "#Concatenate -simailar dataframe is required \n",
    "import pandas as pd\n",
    "\n",
    "data1={\"Emp Id\":[\"E01\",\"E02\",\"E03\",\"E04\",\"E05\",\"E06\"],\n",
    "      \"Names\":[\"Ram\",\"Sam\",\"Shyam\",\"Sanket\",\"Ravi\",\"Jhon\"],\n",
    "      \"Age\":[23 ,24,23,34,45,34]}\n",
    "\n",
    "data2={\"Emp Id\":[\"E07\",\"E08\",\"E09\",\"E010\",\"E011\",\"E012\"],\n",
    "      \"Names\":[\"Ram1\",\"Sam1\",\"Shyam1\",\"Sanket1\",\"Ravi1\",\"Jhon1\"],\n",
    "      \"Age\":[23 ,24,23,34,45,34]}\n",
    "\n",
    "df1=pd.DataFrame(data1)\n",
    "df2=pd.DataFrame(data2)\n",
    "\n",
    "print(pd.concat([df1,df2]))"
   ]
  },
  {
   "cell_type": "markdown",
   "id": "83f8193c-5f51-49a0-9a47-e10f421dd930",
   "metadata": {},
   "source": [
    "*******************Compare Dataframe  *************************"
   ]
  },
  {
   "cell_type": "code",
   "execution_count": 26,
   "id": "b6843109-4c6c-4f80-8566-94228e83092f",
   "metadata": {},
   "outputs": [
    {
     "name": "stdout",
     "output_type": "stream",
     "text": [
      "   Fruits  Price  Quantity\n",
      "0   mango    100        15\n",
      "1   apple    150        10\n",
      "2  banana     50        10\n",
      "3  pappya     35         3\n",
      "\n",
      "   Fruits  Price  Quantity\n",
      "0   mango    120        12\n",
      "1   apple    175        15\n",
      "2  banana     50        10\n",
      "3  pappya     30         5\n"
     ]
    }
   ],
   "source": [
    "#Compare dataframe \n",
    "\n",
    "import pandas as pd\n",
    "dict={\"Fruits\":[\"mango\",\"apple\",\"banana\",\"pappya\"],\n",
    "     \"Price\":[100,150,50,35],\n",
    "     \"Quantity\":[15,10,10,3]}\n",
    "df=pd.DataFrame(dict)\n",
    "print(df)\n",
    "print()\n",
    "df2=df.copy()\n",
    "\n",
    "\n",
    "df2.loc[0,\"Price\"]=120\n",
    "df2.loc[1,\"Price\"]=175\n",
    "df2.loc[3,\"Price\"]=30\n",
    "df2.loc[0,\"Quantity\"]=12\n",
    "df2.loc[1,\"Quantity\"]=15\n",
    "df2.loc[3,\"Quantity\"]=5\n",
    "print(df2)"
   ]
  },
  {
   "cell_type": "code",
   "execution_count": 29,
   "id": "c0822d0d-076b-41c1-9975-614889607465",
   "metadata": {},
   "outputs": [
    {
     "name": "stdout",
     "output_type": "stream",
     "text": [
      "         Price  Quantity\n",
      "0 self   100.0      15.0\n",
      "  other  120.0      12.0\n",
      "1 self   150.0      10.0\n",
      "  other  175.0      15.0\n",
      "3 self    35.0       3.0\n",
      "  other   30.0       5.0\n",
      "  Fruits        Price        Quantity      \n",
      "    self other   self  other     self other\n",
      "0    NaN   NaN  100.0  120.0     15.0  12.0\n",
      "1    NaN   NaN  150.0  175.0     10.0  15.0\n",
      "2    NaN   NaN    NaN    NaN      NaN   NaN\n",
      "3    NaN   NaN   35.0   30.0      3.0   5.0\n"
     ]
    }
   ],
   "source": [
    "#when similar col are there we can compare\n",
    "\n",
    "#print(df.compare(df2) )\n",
    "print(df.compare(df2,align_axis=0))\n",
    "print(df.compare(df2,keep_shape=True))\n",
    "#print(df.compare(df2,keep_shape=False))\n",
    "\n",
    "\n"
   ]
  },
  {
   "cell_type": "raw",
   "id": "668545a2-bd1e-4f42-a451-423e121311dc",
   "metadata": {},
   "source": [
    "*************Pivoting and melting dataframe****************************\n"
   ]
  },
  {
   "cell_type": "code",
   "execution_count": 12,
   "id": "cb021f5c-ed01-4fdb-9b92-8e6bb466704c",
   "metadata": {},
   "outputs": [
    {
     "name": "stdout",
     "output_type": "stream",
     "text": [
      "  keys  Names Houses Grades\n",
      "0   k1   Jhon    red    3rd\n",
      "1   k2    Ben   blue    8th\n",
      "2   k1  David  green    9th\n",
      "3   k2  Peter    red    8th\n",
      "      Houses                   Grades                 \n",
      "Names    Ben  David Jhon Peter    Ben David Jhon Peter\n",
      "keys                                                  \n",
      "k1       NaN  green  red   NaN    NaN   9th  3rd   NaN\n",
      "k2      blue    NaN  NaN   red    8th   NaN  NaN   8th\n"
     ]
    }
   ],
   "source": [
    "import pandas as pd\n",
    "\n",
    "dict={\"keys\":[\"k1\",\"k2\",\"k1\",\"k2\"],\n",
    "     \"Names\":[\"Jhon\",\"Ben\",\"David\",\"Peter\"],\n",
    "     \"Houses\":[\"red\",\"blue\",\"green\",\"red\"],\n",
    "     \"Grades\":[\"3rd\",\"8th\",\"9th\",\"8th\"]}\n",
    "df=pd.DataFrame(dict)\n",
    "print(df)\n",
    "print(df.pivot(index=\"keys\", columns=\"Names\", values=[\"Houses\",\"Grades\"]))"
   ]
  },
  {
   "cell_type": "code",
   "execution_count": 16,
   "id": "d08ab4d0-aeb6-4152-87b9-879ebfd1be6b",
   "metadata": {},
   "outputs": [
    {
     "name": "stdout",
     "output_type": "stream",
     "text": [
      "   Names Houses Grades\n",
      "0   Jhon    red    3rd\n",
      "1    Ben   blue    8th\n",
      "2  David  green    9th\n",
      "3  Peter    red    8th\n",
      "   Names variable  value\n",
      "0   Jhon   Houses    red\n",
      "1    Ben   Houses   blue\n",
      "2  David   Houses  green\n",
      "3  Peter   Houses    red\n",
      "4   Jhon   Grades    3rd\n",
      "5    Ben   Grades    8th\n",
      "6  David   Grades    9th\n",
      "7  Peter   Grades    8th\n"
     ]
    }
   ],
   "source": [
    "#Melting\n",
    "import pandas as pd\n",
    "\n",
    "dict={\"Names\":[\"Jhon\",\"Ben\",\"David\",\"Peter\"],\n",
    "     \"Houses\":[\"red\",\"blue\",\"green\",\"red\"],\n",
    "     \"Grades\":[\"3rd\",\"8th\",\"9th\",\"8th\"]}\n",
    "df=pd.DataFrame(dict)\n",
    "print(df)\n",
    "print(pd.melt(df,id_vars=[\"Names\"],value_vars=[\"Houses\",\"Grades\"]))"
   ]
  },
  {
   "cell_type": "code",
   "execution_count": null,
   "id": "fbea7177-c59c-4a7f-ba2d-ac9c3168ab9a",
   "metadata": {},
   "outputs": [],
   "source": []
  }
 ],
 "metadata": {
  "kernelspec": {
   "display_name": "Python 3 (ipykernel)",
   "language": "python",
   "name": "python3"
  },
  "language_info": {
   "codemirror_mode": {
    "name": "ipython",
    "version": 3
   },
   "file_extension": ".py",
   "mimetype": "text/x-python",
   "name": "python",
   "nbconvert_exporter": "python",
   "pygments_lexer": "ipython3",
   "version": "3.10.1"
  }
 },
 "nbformat": 4,
 "nbformat_minor": 5
}
