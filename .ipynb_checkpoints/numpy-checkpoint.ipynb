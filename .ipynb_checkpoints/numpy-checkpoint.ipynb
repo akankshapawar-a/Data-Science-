{
 "cells": [
  {
   "cell_type": "code",
   "execution_count": 89,
   "id": "b2fd95fa-f66b-4883-9aef-4880448fcfe8",
   "metadata": {},
   "outputs": [
    {
     "name": "stdout",
     "output_type": "stream",
     "text": [
      "[10 20 30]\n",
      "<class 'numpy.ndarray'>\n",
      "[10 20]\n"
     ]
    }
   ],
   "source": [
    "#numpy\n",
    "import numpy as np\n",
    "\n",
    "arr=np.array([10 , 20, 30])\n",
    "print(arr)\n",
    "print(type(arr))\n",
    "print(arr[:2])"
   ]
  },
  {
   "cell_type": "code",
   "execution_count": 14,
   "id": "8e083f0e-cb4d-4b3c-98c3-792166d0f4f4",
   "metadata": {},
   "outputs": [
    {
     "name": "stdout",
     "output_type": "stream",
     "text": [
      "[[10 20 30 40]\n",
      " [50 60 70 80]]\n",
      "[[10 20]\n",
      " [50 60]]\n"
     ]
    }
   ],
   "source": [
    "import numpy as np\n",
    "\n",
    "arr=np.array([[10,20,30,40],[50,60,70,80]])\n",
    "print(arr)\n",
    "print(arr[0:2,0:2])"
   ]
  },
  {
   "cell_type": "code",
   "execution_count": 22,
   "id": "c197dc8c-1c95-4bd0-95e8-74482ec57149",
   "metadata": {},
   "outputs": [
    {
     "name": "stdout",
     "output_type": "stream",
     "text": [
      "[[ 10  20  30  40]\n",
      " [ 50  60  70  80]\n",
      " [ 90 100 110 120]]\n",
      "slicing\n",
      "[20 30]\n",
      "[60 70]\n",
      "[100 110]\n",
      "12\n",
      "(3, 4)\n",
      "2\n",
      "int32\n",
      "3\n"
     ]
    }
   ],
   "source": [
    "import numpy as np\n",
    "\n",
    "arr=np.array([[10,20,30,40],[50,60,70,80],[90,100,110,120]])\n",
    "print(arr)\n",
    "print(\"slicing\")\n",
    "print(arr[0,1:3])\n",
    "print(arr[1,1:3])\n",
    "print(arr[2,1:3])\n",
    "\n",
    "# attributes \n",
    "\n",
    "print(np.size(arr))#element length\n",
    "print(np.shape(arr)) #row and col\n",
    "print(np.ndim(arr)) #dimes\n",
    "print(arr.dtype) #datatpe byte\n",
    "print(len(arr)) # how many arrays "
   ]
  },
  {
   "cell_type": "code",
   "execution_count": 38,
   "id": "91634179-438c-4790-adf3-af86b6ef0d23",
   "metadata": {},
   "outputs": [
    {
     "name": "stdout",
     "output_type": "stream",
     "text": [
      "[[1 2 3 4]\n",
      " [5 6 7 8]]\n",
      "slicing\n",
      "8\n",
      "(2, 4)\n",
      "2\n",
      "int32\n",
      "2\n"
     ]
    }
   ],
   "source": [
    "import numpy as np\n",
    "a=[[1,2,3,4],[5,6,7,8]]\n",
    "arr=np.array(a)\n",
    "print(arr)\n",
    "print(\"slicing\")\n",
    "\n",
    "\n",
    "# attributes \n",
    "\n",
    "print(np.size(arr))# number of element\n",
    "print(arr.shape) #row and col\n",
    "print(np.ndim(arr)) #dimes\n",
    "print(arr.dtype) #datatype of array\n",
    "print(len(arr)) # number of nested values\n",
    "#print(arr.astype(float)) #Conversion of datatype"
   ]
  },
  {
   "cell_type": "code",
   "execution_count": 32,
   "id": "3a647907-010b-49a6-8002-db72ab1dc9b7",
   "metadata": {},
   "outputs": [
    {
     "name": "stdout",
     "output_type": "stream",
     "text": [
      "[ 6  8 10 12]\n",
      "[ 6  8 10 12]\n",
      "[-4 -4 -4 -4]\n",
      "[-4 -4 -4 -4]\n",
      "[ 5 12 21 32]\n",
      "[ 5 12 21 32]\n",
      "[0.2        0.33333333 0.42857143 0.5       ]\n",
      "[0.2        0.33333333 0.42857143 0.5       ]\n"
     ]
    }
   ],
   "source": [
    "# funcation of array\n",
    "import numpy as np\n",
    "arr1=np.array([1,2,3,4])\n",
    "arr2=np.array([5,6,7,8])\n",
    "\n",
    "print(arr1+arr2)\n",
    "print(np.add(arr1,arr2))\n",
    "\n",
    "print(arr1-arr2)\n",
    "print(np.subtract(arr1,arr2))\n",
    "\n",
    "\n",
    "print(arr1*arr2)\n",
    "print(np.multiply(arr1,arr2))\n",
    "\n",
    "print(arr1/arr2)\n",
    "print(np.divide(arr1,arr2))"
   ]
  },
  {
   "cell_type": "code",
   "execution_count": 35,
   "id": "64ff47a1-48ff-4387-b8f5-5b6c194b879b",
   "metadata": {},
   "outputs": [
    {
     "name": "stdout",
     "output_type": "stream",
     "text": [
      "[ 1  4  9 16]\n",
      "[1. 2. 3. 4.]\n"
     ]
    }
   ],
   "source": [
    "arr1=np.array([1,2,3,4])\n",
    "arr2=np.array([2])\n",
    "arr3=np.array([ 1 , 4,  9 ,16])\n",
    "\n",
    "print(np.power(arr1,arr2))\n",
    "print(np.sqrt(arr3))"
   ]
  },
  {
   "cell_type": "code",
   "execution_count": 40,
   "id": "e060dfe9-b906-43f5-822c-e19f94c3c5e5",
   "metadata": {},
   "outputs": [
    {
     "name": "stdout",
     "output_type": "stream",
     "text": [
      "[1 2 3 4 5 6 7 8]\n"
     ]
    }
   ],
   "source": [
    "# Combining and spiliting array\n",
    "import numpy as np\n",
    "arr1=np.array([1,2,3,4])\n",
    "arr2=np.array([5,6,7,8])\n",
    "\n",
    "#Concatenate\n",
    "print(np.concatenate([arr1 , arr2]))\n"
   ]
  },
  {
   "cell_type": "code",
   "execution_count": 44,
   "id": "988c588e-2902-4829-9581-b7f8538132a0",
   "metadata": {},
   "outputs": [
    {
     "name": "stdout",
     "output_type": "stream",
     "text": [
      "[[ 1  2  3  4]\n",
      " [11 12 13 14]\n",
      " [ 5  6  7  8]\n",
      " [ 1  2  3  4]]\n"
     ]
    }
   ],
   "source": [
    "# Combining and spiliting array\n",
    "import numpy as np\n",
    "arr1=np.array([[1,2,3,4],[11,12,13,14]])\n",
    "arr2=np.array([[5,6,7,8],[1,2,3,4]])\n",
    "\n",
    "#Concatenate\n",
    "print(np.concatenate([arr1 , arr2]))\n"
   ]
  },
  {
   "cell_type": "code",
   "execution_count": 47,
   "id": "753de8d1-23e6-47a9-a2d3-bec28ea5f5e0",
   "metadata": {},
   "outputs": [
    {
     "name": "stdout",
     "output_type": "stream",
     "text": [
      "[[ 1  2  3  4  5  6  7  8]\n",
      " [11 12 13 14  1  2  3  4]]\n"
     ]
    }
   ],
   "source": [
    "print(np.concatenate([arr1 , arr2],axis=1))\n"
   ]
  },
  {
   "cell_type": "code",
   "execution_count": 52,
   "id": "501af32f-bd9d-4304-98fd-0ba91915bf0b",
   "metadata": {},
   "outputs": [
    {
     "name": "stdout",
     "output_type": "stream",
     "text": [
      "[[ 1  2  3  4  5  6  7  8]\n",
      " [11 12 13 14  1  2  3  4]]\n"
     ]
    }
   ],
   "source": [
    "print(np.hstack([arr1,arr2]))  #horizontail concatenation stack same a axis 1 "
   ]
  },
  {
   "cell_type": "code",
   "execution_count": 51,
   "id": "3546d1c7-e3cb-4567-931d-2e892dd9b58b",
   "metadata": {},
   "outputs": [
    {
     "name": "stdout",
     "output_type": "stream",
     "text": [
      "[[ 1  2  3  4]\n",
      " [11 12 13 14]\n",
      " [ 5  6  7  8]\n",
      " [ 1  2  3  4]]\n"
     ]
    }
   ],
   "source": [
    "print(np.vstack([arr1,arr2]))  #vertical concatenation stack same a axis 0"
   ]
  },
  {
   "cell_type": "code",
   "execution_count": 59,
   "id": "4bb88f9d-2a4d-4dea-a4ea-0df4ce51e82d",
   "metadata": {},
   "outputs": [
    {
     "name": "stdout",
     "output_type": "stream",
     "text": [
      "[array([20, 30]), array([40, 50]), array([10]), array([60])]\n"
     ]
    }
   ],
   "source": [
    "#split value \n",
    "a=np.array([20,30,40,50,10,60])\n",
    "print(np.array_split(a,4))"
   ]
  },
  {
   "cell_type": "code",
   "execution_count": 64,
   "id": "2d563d03-5879-4178-bb37-eabdd00275cf",
   "metadata": {},
   "outputs": [
    {
     "name": "stdout",
     "output_type": "stream",
     "text": [
      "[array([20, 30]), array([40, 50]), array([10, 60])]\n",
      "[40 50]\n",
      "[20 30]\n"
     ]
    }
   ],
   "source": [
    "#split value \n",
    "c=np.array([20,30,40,50,10,60])\n",
    "b=np.array_split(c,3)\n",
    "print(b)\n",
    "print(b[1])\n",
    "print(b[0])\n",
    "\n"
   ]
  },
  {
   "cell_type": "code",
   "execution_count": 68,
   "id": "f4919c21-f68b-4207-a8d0-5e16a1ec0ce9",
   "metadata": {},
   "outputs": [
    {
     "name": "stdout",
     "output_type": "stream",
     "text": [
      "[ 20  30  40   1   2   3  90 100]\n"
     ]
    }
   ],
   "source": [
    "#adding and removing elements in array\n",
    "import numpy as np\n",
    "a=np.array([[20,30,40],[1,2,3]])\n",
    "b=np.array([20,30,40])\n",
    "\n",
    "# print(np.append(a,90))\n",
    "print(np.append(a,[90,100]))"
   ]
  },
  {
   "cell_type": "code",
   "execution_count": 82,
   "id": "6c3b1f1f-3989-43f8-b32e-0c337968ed72",
   "metadata": {},
   "outputs": [
    {
     "name": "stdout",
     "output_type": "stream",
     "text": [
      "[20 11 30 40]\n",
      "[ 20 100 110  30  40]\n",
      "[[ 20 100  30  40]\n",
      " [  1 110   2   3]]\n"
     ]
    }
   ],
   "source": [
    "#insert\n",
    "print(np.insert(b,1,11)) #array ,index, value\n",
    "print(np.insert(b,1,[100,110] , axis=0)) #array ,index, value\n",
    "print(np.insert(a,1,[100,110] , axis=1)) #array ,index, value"
   ]
  },
  {
   "cell_type": "code",
   "execution_count": 88,
   "id": "23e06db7-4cde-4eff-8c5f-bc1b68021df4",
   "metadata": {},
   "outputs": [
    {
     "name": "stdout",
     "output_type": "stream",
     "text": [
      "[[20 30 40]\n",
      " [ 1  2  3]]\n",
      "[20 40  1  2  3]\n",
      "[[20 30 40]]\n"
     ]
    }
   ],
   "source": [
    "#delete\n",
    "print(a)\n",
    "print(np.delete(a,1))\n",
    "print(np.delete(a,1, axis=0))\n"
   ]
  },
  {
   "cell_type": "code",
   "execution_count": 3,
   "id": "1c03dd7a-2465-4ae3-8cb6-c04fdd6b8059",
   "metadata": {},
   "outputs": [
    {
     "name": "stdout",
     "output_type": "stream",
     "text": [
      "[[3 5 6 7 9]\n",
      " [1 4 6 8 9]]\n",
      "[ 1  5  6 24 44 55]\n"
     ]
    }
   ],
   "source": [
    "# sort array\n",
    "import numpy as np\n",
    "a=np.array([1,5,24,6,44,55])\n",
    "b=np.array([[3,6,7,5,9],[1,8,6,9,4]])\n",
    "print(np.sort(b))\n",
    "print(np.sort(a))\n"
   ]
  },
  {
   "cell_type": "code",
   "execution_count": 5,
   "id": "fe917a3b-66b1-486e-b9c3-00a655abbf33",
   "metadata": {},
   "outputs": [
    {
     "name": "stdout",
     "output_type": "stream",
     "text": [
      "(array([2], dtype=int64),)\n"
     ]
    }
   ],
   "source": [
    "#search\n",
    "import numpy as np\n",
    "a=np.array([1,5,24,6,44,55])\n",
    "s=np.where(a==24)\n",
    "print(s)"
   ]
  },
  {
   "cell_type": "code",
   "execution_count": 6,
   "id": "9565744a-425e-47a5-99bf-aae28c64c824",
   "metadata": {},
   "outputs": [
    {
     "name": "stdout",
     "output_type": "stream",
     "text": [
      "(array([2, 3, 4], dtype=int64),)\n"
     ]
    }
   ],
   "source": [
    "s=np.where(a%2==0)\n",
    "print(s)"
   ]
  },
  {
   "cell_type": "code",
   "execution_count": 11,
   "id": "4513a5cd-00a7-40b5-9a44-4ca9ac094aa6",
   "metadata": {},
   "outputs": [
    {
     "name": "stdout",
     "output_type": "stream",
     "text": [
      "5\n"
     ]
    }
   ],
   "source": [
    "#search sorted\n",
    "import numpy as np\n",
    "a=np.array([1,5,24,6,44,55])\n",
    "ss=np.searchsorted(a,55)\n",
    "print(ss)"
   ]
  },
  {
   "cell_type": "code",
   "execution_count": 12,
   "id": "98f25896-fa6f-417c-ab90-09a5ea0e3652",
   "metadata": {},
   "outputs": [
    {
     "name": "stdout",
     "output_type": "stream",
     "text": [
      "[20 40]\n"
     ]
    }
   ],
   "source": [
    "#filter -if we have an existing array we can create a new array\n",
    "import numpy as np\n",
    "a=np.array([20,30,40,50])\n",
    "fa=[True,False,True,False]\n",
    "new =a[fa]\n",
    "print(new)"
   ]
  },
  {
   "cell_type": "code",
   "execution_count": 15,
   "id": "cbd91fe3-8aec-4bbf-8e17-75f38572a236",
   "metadata": {},
   "outputs": [
    {
     "name": "stdout",
     "output_type": "stream",
     "text": [
      "[40 50]\n"
     ]
    }
   ],
   "source": [
    "#another method\n",
    "#filter -if we have an existing array we can create a new array\n",
    "import numpy as np\n",
    "a=np.array([20,30,40,50])\n",
    "fa=a>35 # we can give any condition here \n",
    "new =a[fa]\n",
    "print(new)"
   ]
  },
  {
   "cell_type": "code",
   "execution_count": 23,
   "id": "6cabc8bb-08e9-487b-941c-573644ad0c40",
   "metadata": {},
   "outputs": [
    {
     "name": "stdout",
     "output_type": "stream",
     "text": [
      "190\n",
      "20\n",
      "70\n",
      "4\n",
      "190\n",
      "47.5\n",
      "[ 20  60 120 190]\n",
      "[     20     800   48000 3360000]\n"
     ]
    }
   ],
   "source": [
    "#Aggragate funcation\n",
    "import numpy as np\n",
    "a=np.array([20,40,60,70])\n",
    "print(np.sum(a))\n",
    "print(np.min(a))\n",
    "print(np.max(a))\n",
    "print(np.size(a))\n",
    "print(np.sum(a))\n",
    "print(np.mean(a))\n",
    "print(np.cumsum(a))\n",
    "print(np.cumprod(a))\n",
    "\n"
   ]
  },
  {
   "cell_type": "code",
   "execution_count": 33,
   "id": "8098bdfe-e330-49c0-8af3-8d83c767f784",
   "metadata": {},
   "outputs": [
    {
     "name": "stdout",
     "output_type": "stream",
     "text": [
      "[100 150 199 200 250 130] \n",
      " [10 50 30 40 30 10]\n",
      "\n",
      "31270\n"
     ]
    }
   ],
   "source": [
    "#example\n",
    "a=[100,150,199,200,250,130]\n",
    "b=[10,50,30,40,30,10]\n",
    "price=np.array(a)\n",
    "quantity=np.array(b)\n",
    "print(price,\"\\n\", quantity)\n",
    "print()\n",
    "c=np.cumprod([price , quantity] , axis=0)\n",
    "print(c[1].sum())\n",
    "\n"
   ]
  },
  {
   "cell_type": "code",
   "execution_count": 39,
   "id": "df8bb4f8-95d9-42ed-8ad6-5d299dc488c2",
   "metadata": {},
   "outputs": [
    {
     "name": "stdout",
     "output_type": "stream",
     "text": [
      "202.25\n",
      "194.0\n",
      "200\n",
      "55.68157235567257\n",
      "3100.4375\n"
     ]
    }
   ],
   "source": [
    "#statistical funcations \n",
    "\n",
    "import numpy as np\n",
    "import statistics as stats\n",
    "baked_food=[200,300,150,130,200,280,170,188]\n",
    "\n",
    "a=np.array(baked_food)\n",
    "print(np.mean(baked_food)) #sum of all the values /number of value\n",
    "print(np.median(baked_food)) #central value after sorting \n",
    "#here mode is not in numpy so we use statistics library\n",
    "print(stats.mode(baked_food))\n",
    "print(np.std(baked_food)) # Standard devation - it is nice to now thta spride of our product \n",
    "# and when std is low it is almost accurate\n",
    "# also used for quality control\n",
    "print(np.var(baked_food)) #variance"
   ]
  },
  {
   "cell_type": "code",
   "execution_count": 45,
   "id": "e07448b0-2bdc-4eac-8bf4-9fe3531a20cc",
   "metadata": {},
   "outputs": [
    {
     "name": "stdout",
     "output_type": "stream",
     "text": [
      "[[1.         0.99015454]\n",
      " [0.99015454 1.        ]]\n"
     ]
    }
   ],
   "source": [
    "#coeffecent of correaltion-used to identify the dependency between the data \n",
    "#incresese and decresese part of data\n",
    "# -1 represents inversely proportional relationship\n",
    "# 1 represents proportional relationship\n",
    "# 0 means no relationship\n",
    "tobacco_consumpation=[30 , 50,10,30,50,40]\n",
    "deaths=[100,120,70,100,120,112]\n",
    "\n",
    "print(np.corrcoef([tobacco_consumpation,deaths]))"
   ]
  },
  {
   "cell_type": "code",
   "execution_count": 44,
   "id": "31ccdd53-e719-401f-bd1e-5cb3e85045dc",
   "metadata": {},
   "outputs": [
    {
     "name": "stdout",
     "output_type": "stream",
     "text": [
      "[[ 1.         -0.66621445]\n",
      " [-0.66621445  1.        ]]\n"
     ]
    }
   ],
   "source": [
    "# negative relationship\n",
    "price=[300, 100,350,150,200]\n",
    "sales=[10,20,7,17,3]\n",
    "print(np.corrcoef([price, sales]))"
   ]
  }
 ],
 "metadata": {
  "kernelspec": {
   "display_name": "Python 3 (ipykernel)",
   "language": "python",
   "name": "python3"
  },
  "language_info": {
   "codemirror_mode": {
    "name": "ipython",
    "version": 3
   },
   "file_extension": ".py",
   "mimetype": "text/x-python",
   "name": "python",
   "nbconvert_exporter": "python",
   "pygments_lexer": "ipython3",
   "version": "3.10.1"
  }
 },
 "nbformat": 4,
 "nbformat_minor": 5
}
